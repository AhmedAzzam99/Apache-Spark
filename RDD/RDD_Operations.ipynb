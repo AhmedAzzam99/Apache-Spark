{
  "cells": [
    {
      "cell_type": "markdown",
      "id": "2568221b",
      "metadata": {
        "id": "2568221b"
      },
      "source": [
        "### Import the required libraries then Create SparkContext"
      ]
    },
    {
      "cell_type": "code",
      "execution_count": null,
      "id": "65e6978c",
      "metadata": {
        "colab": {
          "base_uri": "https://localhost:8080/"
        },
        "id": "65e6978c",
        "outputId": "2eade9ef-a01d-4a8d-ef76-1b168a76710c"
      },
      "outputs": [
        {
          "output_type": "stream",
          "name": "stdout",
          "text": [
            "Looking in indexes: https://pypi.org/simple, https://us-python.pkg.dev/colab-wheels/public/simple/\n",
            "Collecting pyspark\n",
            "  Downloading pyspark-3.3.0.tar.gz (281.3 MB)\n",
            "\u001b[K     |████████████████████████████████| 281.3 MB 43 kB/s \n",
            "\u001b[?25hCollecting py4j==0.10.9.5\n",
            "  Downloading py4j-0.10.9.5-py2.py3-none-any.whl (199 kB)\n",
            "\u001b[K     |████████████████████████████████| 199 kB 50.2 MB/s \n",
            "\u001b[?25hBuilding wheels for collected packages: pyspark\n",
            "  Building wheel for pyspark (setup.py) ... \u001b[?25l\u001b[?25hdone\n",
            "  Created wheel for pyspark: filename=pyspark-3.3.0-py2.py3-none-any.whl size=281764026 sha256=70a54cf77ee91fab33472c5622bb1b53b4a11a8bc41cb81e0cf3ac3251b14c57\n",
            "  Stored in directory: /root/.cache/pip/wheels/7a/8e/1b/f73a52650d2e5f337708d9f6a1750d451a7349a867f928b885\n",
            "Successfully built pyspark\n",
            "Installing collected packages: py4j, pyspark\n",
            "Successfully installed py4j-0.10.9.5 pyspark-3.3.0\n"
          ]
        }
      ],
      "source": [
        "! pip install pyspark"
      ]
    },
    {
      "cell_type": "code",
      "source": [
        "from pyspark.sql import SparkSession\n",
        "spark = SparkSession.builder.getOrCreate()\n",
        "sc = spark.sparkContext"
      ],
      "metadata": {
        "id": "uuq_bCU_nupx"
      },
      "id": "uuq_bCU_nupx",
      "execution_count": null,
      "outputs": []
    },
    {
      "cell_type": "markdown",
      "id": "e9a7d9c6",
      "metadata": {
        "id": "e9a7d9c6"
      },
      "source": [
        "### Create and display an RDD from the following list"
      ]
    },
    {
      "cell_type": "code",
      "execution_count": null,
      "id": "409084ef",
      "metadata": {
        "id": "409084ef"
      },
      "outputs": [],
      "source": [
        "list = [('JK', 22), ('V', 24), ('Jimin',24), ('RM', 25), ('J-Hope', 25), ('Suga', 26), ('Jin', 27)]"
      ]
    },
    {
      "cell_type": "code",
      "execution_count": null,
      "id": "d5ba0725",
      "metadata": {
        "scrolled": true,
        "colab": {
          "base_uri": "https://localhost:8080/"
        },
        "id": "d5ba0725",
        "outputId": "a1d65dc8-a31a-431a-9a9b-a1507f90bece"
      },
      "outputs": [
        {
          "output_type": "execute_result",
          "data": {
            "text/plain": [
              "[('JK', 22),\n",
              " ('V', 24),\n",
              " ('Jimin', 24),\n",
              " ('RM', 25),\n",
              " ('J-Hope', 25),\n",
              " ('Suga', 26),\n",
              " ('Jin', 27)]"
            ]
          },
          "metadata": {},
          "execution_count": 6
        }
      ],
      "source": [
        "rdd1=sc.parallelize(list)\n",
        "rdd1.collect()"
      ]
    },
    {
      "cell_type": "markdown",
      "id": "feedfb38",
      "metadata": {
        "id": "feedfb38"
      },
      "source": [
        "### Read sample1.txt file into RDD and displaying the first 4 elements"
      ]
    },
    {
      "cell_type": "code",
      "execution_count": null,
      "id": "14f5c55a",
      "metadata": {
        "colab": {
          "base_uri": "https://localhost:8080/"
        },
        "id": "14f5c55a",
        "outputId": "88e54691-a618-4aab-dbc8-4620cffbfe5e"
      },
      "outputs": [
        {
          "output_type": "execute_result",
          "data": {
            "text/plain": [
              "['Text messages are used for personal, family, business and social purposes. Governmental and non-governmental organizations',\n",
              " ' use text messaging for communication between colleagues. In the 2010s, the sending of short informal messages became',\n",
              " ' an accepted part of many cultures, as happened earlier with emailing.[1] This makes texting a quick and easy way to communicate with friends, family and colleagues, including in contexts where a call would be impolite or inappropriate (e.g., calling very late at night or when one knows the other person is busy with family or work activities).',\n",
              " 'Like e-mail and voicemail and unlike calls (in which the caller hopes to speak directly with the recipient)']"
            ]
          },
          "metadata": {},
          "execution_count": 13
        }
      ],
      "source": [
        "distFile=sc.textFile('/content/sample_data/sample1.txt')\n",
        "distFile.take(4)"
      ]
    },
    {
      "cell_type": "markdown",
      "id": "e55ae192",
      "metadata": {
        "id": "e55ae192"
      },
      "source": [
        "### Count the total number of rows in RDD"
      ]
    },
    {
      "cell_type": "code",
      "execution_count": null,
      "id": "0b3be34e",
      "metadata": {
        "colab": {
          "base_uri": "https://localhost:8080/"
        },
        "id": "0b3be34e",
        "outputId": "96aee0c4-7530-47a9-a8ec-bb72e781ab08"
      },
      "outputs": [
        {
          "output_type": "execute_result",
          "data": {
            "text/plain": [
              "9"
            ]
          },
          "metadata": {},
          "execution_count": 14
        }
      ],
      "source": [
        "distFile.count()"
      ]
    },
    {
      "cell_type": "markdown",
      "id": "35652e93",
      "metadata": {
        "id": "35652e93"
      },
      "source": [
        "### Create a function to convert the data into lower case and splitting it"
      ]
    },
    {
      "cell_type": "code",
      "execution_count": null,
      "id": "3e8f7f45",
      "metadata": {
        "scrolled": true,
        "colab": {
          "base_uri": "https://localhost:8080/"
        },
        "id": "3e8f7f45",
        "outputId": "2ed9eb16-8cab-463f-96b5-63e85ccdae5e"
      },
      "outputs": [
        {
          "output_type": "execute_result",
          "data": {
            "text/plain": [
              "[['text',\n",
              "  'messages',\n",
              "  'are',\n",
              "  'used',\n",
              "  'for',\n",
              "  'personal,',\n",
              "  'family,',\n",
              "  'business',\n",
              "  'and',\n",
              "  'social',\n",
              "  'purposes.',\n",
              "  'governmental',\n",
              "  'and',\n",
              "  'non-governmental',\n",
              "  'organizations'],\n",
              " ['use',\n",
              "  'text',\n",
              "  'messaging',\n",
              "  'for',\n",
              "  'communication',\n",
              "  'between',\n",
              "  'colleagues.',\n",
              "  'in',\n",
              "  'the',\n",
              "  '2010s,',\n",
              "  'the',\n",
              "  'sending',\n",
              "  'of',\n",
              "  'short',\n",
              "  'informal',\n",
              "  'messages',\n",
              "  'became'],\n",
              " ['an',\n",
              "  'accepted',\n",
              "  'part',\n",
              "  'of',\n",
              "  'many',\n",
              "  'cultures,',\n",
              "  'as',\n",
              "  'happened',\n",
              "  'earlier',\n",
              "  'with',\n",
              "  'emailing.[1]',\n",
              "  'this',\n",
              "  'makes',\n",
              "  'texting',\n",
              "  'a',\n",
              "  'quick',\n",
              "  'and',\n",
              "  'easy',\n",
              "  'way',\n",
              "  'to',\n",
              "  'communicate',\n",
              "  'with',\n",
              "  'friends,',\n",
              "  'family',\n",
              "  'and',\n",
              "  'colleagues,',\n",
              "  'including',\n",
              "  'in',\n",
              "  'contexts',\n",
              "  'where',\n",
              "  'a',\n",
              "  'call',\n",
              "  'would',\n",
              "  'be',\n",
              "  'impolite',\n",
              "  'or',\n",
              "  'inappropriate',\n",
              "  '(e.g.,',\n",
              "  'calling',\n",
              "  'very',\n",
              "  'late',\n",
              "  'at',\n",
              "  'night',\n",
              "  'or',\n",
              "  'when',\n",
              "  'one',\n",
              "  'knows',\n",
              "  'the',\n",
              "  'other',\n",
              "  'person',\n",
              "  'is',\n",
              "  'busy',\n",
              "  'with',\n",
              "  'family',\n",
              "  'or',\n",
              "  'work',\n",
              "  'activities).'],\n",
              " ['like',\n",
              "  'e-mail',\n",
              "  'and',\n",
              "  'voicemail',\n",
              "  'and',\n",
              "  'unlike',\n",
              "  'calls',\n",
              "  '(in',\n",
              "  'which',\n",
              "  'the',\n",
              "  'caller',\n",
              "  'hopes',\n",
              "  'to',\n",
              "  'speak',\n",
              "  'directly',\n",
              "  'with',\n",
              "  'the',\n",
              "  'recipient)'],\n",
              " ['texting',\n",
              "  'does',\n",
              "  'not',\n",
              "  'require',\n",
              "  'the',\n",
              "  'caller',\n",
              "  'and',\n",
              "  'recipient',\n",
              "  'to',\n",
              "  'both',\n",
              "  'be',\n",
              "  'free',\n",
              "  'at',\n",
              "  'the',\n",
              "  'same',\n",
              "  'moment;',\n",
              "  'this',\n",
              "  'permits',\n",
              "  'communication',\n",
              "  'even'],\n",
              " ['between',\n",
              "  'busy',\n",
              "  'individuals.',\n",
              "  'text',\n",
              "  'messages',\n",
              "  'can',\n",
              "  'also',\n",
              "  'be',\n",
              "  'used',\n",
              "  'to',\n",
              "  'interact',\n",
              "  'with',\n",
              "  'automated',\n",
              "  'systems,',\n",
              "  'for',\n",
              "  'example'],\n",
              " ['to',\n",
              "  'order',\n",
              "  'products',\n",
              "  'or',\n",
              "  'services',\n",
              "  'from',\n",
              "  'e-commerce',\n",
              "  'websites,',\n",
              "  'or',\n",
              "  'to',\n",
              "  'participate',\n",
              "  'in',\n",
              "  'online',\n",
              "  'contests.'],\n",
              " ['advertisers',\n",
              "  'and',\n",
              "  'service',\n",
              "  'providers',\n",
              "  'use',\n",
              "  'direct',\n",
              "  'text',\n",
              "  'marketing',\n",
              "  'to',\n",
              "  'send',\n",
              "  'messages',\n",
              "  'to',\n",
              "  'mobile',\n",
              "  'users',\n",
              "  'about',\n",
              "  'promotions'],\n",
              " ['payment',\n",
              "  'due',\n",
              "  'dates,',\n",
              "  'and',\n",
              "  'other',\n",
              "  'notifications',\n",
              "  'instead',\n",
              "  'of',\n",
              "  'using',\n",
              "  'postal',\n",
              "  'mail,',\n",
              "  'email,',\n",
              "  'or',\n",
              "  'voicemail.']]"
            ]
          },
          "metadata": {},
          "execution_count": 15
        }
      ],
      "source": [
        "def lower_split(line):\n",
        "    return line.lower().split()\n",
        "\n",
        "distFile.map(lower_split).collect()"
      ]
    },
    {
      "cell_type": "markdown",
      "id": "4cfa29af",
      "metadata": {
        "id": "4cfa29af"
      },
      "source": [
        "### Filter the stopwords from the previous text"
      ]
    },
    {
      "cell_type": "code",
      "execution_count": null,
      "id": "97c1e731",
      "metadata": {
        "id": "97c1e731"
      },
      "outputs": [],
      "source": [
        "stopwords = ['a','all','the','as','is','am','an','and',\n",
        "             'be','been','from','had','I','I’d','why','with']\n",
        "# Hint: you may need use flatMap"
      ]
    },
    {
      "cell_type": "code",
      "execution_count": null,
      "id": "65fa1d91",
      "metadata": {
        "colab": {
          "base_uri": "https://localhost:8080/"
        },
        "id": "65fa1d91",
        "outputId": "01fd58de-489c-442c-9c2d-d7d6289da7cd"
      },
      "outputs": [
        {
          "output_type": "execute_result",
          "data": {
            "text/plain": [
              "['text',\n",
              " 'messages',\n",
              " 'are',\n",
              " 'used',\n",
              " 'for',\n",
              " 'personal,',\n",
              " 'family,',\n",
              " 'business',\n",
              " 'social',\n",
              " 'purposes.',\n",
              " 'governmental',\n",
              " 'non-governmental',\n",
              " 'organizations',\n",
              " 'use',\n",
              " 'text',\n",
              " 'messaging',\n",
              " 'for',\n",
              " 'communication',\n",
              " 'between',\n",
              " 'colleagues.',\n",
              " 'in',\n",
              " '2010s,',\n",
              " 'sending',\n",
              " 'of',\n",
              " 'short',\n",
              " 'informal',\n",
              " 'messages',\n",
              " 'became',\n",
              " 'accepted',\n",
              " 'part',\n",
              " 'of',\n",
              " 'many',\n",
              " 'cultures,',\n",
              " 'happened',\n",
              " 'earlier',\n",
              " 'emailing.[1]',\n",
              " 'this',\n",
              " 'makes',\n",
              " 'texting',\n",
              " 'quick',\n",
              " 'easy',\n",
              " 'way',\n",
              " 'to',\n",
              " 'communicate',\n",
              " 'friends,',\n",
              " 'family',\n",
              " 'colleagues,',\n",
              " 'including',\n",
              " 'in',\n",
              " 'contexts',\n",
              " 'where',\n",
              " 'call',\n",
              " 'would',\n",
              " 'impolite',\n",
              " 'or',\n",
              " 'inappropriate',\n",
              " '(e.g.,',\n",
              " 'calling',\n",
              " 'very',\n",
              " 'late',\n",
              " 'at',\n",
              " 'night',\n",
              " 'or',\n",
              " 'when',\n",
              " 'one',\n",
              " 'knows',\n",
              " 'other',\n",
              " 'person',\n",
              " 'busy',\n",
              " 'family',\n",
              " 'or',\n",
              " 'work',\n",
              " 'activities).',\n",
              " 'like',\n",
              " 'e-mail',\n",
              " 'voicemail',\n",
              " 'unlike',\n",
              " 'calls',\n",
              " '(in',\n",
              " 'which',\n",
              " 'caller',\n",
              " 'hopes',\n",
              " 'to',\n",
              " 'speak',\n",
              " 'directly',\n",
              " 'recipient)',\n",
              " 'texting',\n",
              " 'does',\n",
              " 'not',\n",
              " 'require',\n",
              " 'caller',\n",
              " 'recipient',\n",
              " 'to',\n",
              " 'both',\n",
              " 'free',\n",
              " 'at',\n",
              " 'same',\n",
              " 'moment;',\n",
              " 'this',\n",
              " 'permits',\n",
              " 'communication',\n",
              " 'even',\n",
              " 'between',\n",
              " 'busy',\n",
              " 'individuals.',\n",
              " 'text',\n",
              " 'messages',\n",
              " 'can',\n",
              " 'also',\n",
              " 'used',\n",
              " 'to',\n",
              " 'interact',\n",
              " 'automated',\n",
              " 'systems,',\n",
              " 'for',\n",
              " 'example',\n",
              " 'to',\n",
              " 'order',\n",
              " 'products',\n",
              " 'or',\n",
              " 'services',\n",
              " 'e-commerce',\n",
              " 'websites,',\n",
              " 'or',\n",
              " 'to',\n",
              " 'participate',\n",
              " 'in',\n",
              " 'online',\n",
              " 'contests.',\n",
              " 'advertisers',\n",
              " 'service',\n",
              " 'providers',\n",
              " 'use',\n",
              " 'direct',\n",
              " 'text',\n",
              " 'marketing',\n",
              " 'to',\n",
              " 'send',\n",
              " 'messages',\n",
              " 'to',\n",
              " 'mobile',\n",
              " 'users',\n",
              " 'about',\n",
              " 'promotions',\n",
              " 'payment',\n",
              " 'due',\n",
              " 'dates,',\n",
              " 'other',\n",
              " 'notifications',\n",
              " 'instead',\n",
              " 'of',\n",
              " 'using',\n",
              " 'postal',\n",
              " 'mail,',\n",
              " 'email,',\n",
              " 'or',\n",
              " 'voicemail.']"
            ]
          },
          "metadata": {},
          "execution_count": 18
        }
      ],
      "source": [
        "flatRdd=distFile.flatMap(lower_split)\n",
        "flatRdd.filter(lambda x:x not in stopwords).collect()"
      ]
    },
    {
      "cell_type": "markdown",
      "id": "eb066a90",
      "metadata": {
        "id": "eb066a90"
      },
      "source": [
        "### Filter the words starting with ‘c’"
      ]
    },
    {
      "cell_type": "code",
      "execution_count": null,
      "id": "7f39a4b8",
      "metadata": {
        "colab": {
          "base_uri": "https://localhost:8080/"
        },
        "id": "7f39a4b8",
        "outputId": "78d7f56a-5d81-4e29-f4cd-7dff30435c10"
      },
      "outputs": [
        {
          "output_type": "execute_result",
          "data": {
            "text/plain": [
              "['communication',\n",
              " 'colleagues.',\n",
              " 'cultures,',\n",
              " 'communicate',\n",
              " 'colleagues,',\n",
              " 'contexts',\n",
              " 'call',\n",
              " 'calling',\n",
              " 'calls',\n",
              " 'caller',\n",
              " 'caller',\n",
              " 'communication',\n",
              " 'can',\n",
              " 'contests.']"
            ]
          },
          "metadata": {},
          "execution_count": 19
        }
      ],
      "source": [
        "flatRdd.filter(lambda x:x[0]=='c').collect()"
      ]
    },
    {
      "cell_type": "markdown",
      "id": "eba39e2e",
      "metadata": {
        "id": "eba39e2e"
      },
      "source": [
        "### Reduce the data by key and sum it (use the data from the following list)"
      ]
    },
    {
      "cell_type": "code",
      "execution_count": null,
      "id": "f26dea46",
      "metadata": {
        "id": "f26dea46"
      },
      "outputs": [],
      "source": [
        "list = [('JK', 22), ('V', 24), ('Jimin',24), ('RM', 25)\n",
        "        , ('J-Hope', 25), ('Suga', 26), ('Jin', 27)\n",
        "       , ('J-Hope', 12), ('Suga', 25), ('Jin', 34)\n",
        "       , ('JK', 32), ('V', 44), ('Jimin',14), ('RM', 35)]\n",
        "# Hint: use reduceByKey"
      ]
    },
    {
      "cell_type": "code",
      "execution_count": null,
      "id": "ae551b82",
      "metadata": {
        "colab": {
          "base_uri": "https://localhost:8080/"
        },
        "id": "ae551b82",
        "outputId": "f7847be2-78c0-4116-848c-9c2a96eaaf26"
      },
      "outputs": [
        {
          "output_type": "execute_result",
          "data": {
            "text/plain": [
              "[('Suga', 51),\n",
              " ('Jin', 61),\n",
              " ('JK', 54),\n",
              " ('V', 68),\n",
              " ('Jimin', 38),\n",
              " ('RM', 60),\n",
              " ('J-Hope', 37)]"
            ]
          },
          "metadata": {},
          "execution_count": 24
        }
      ],
      "source": [
        "rdd=sc.parallelize(list)\n",
        "rdd.reduceByKey(lambda x,y:x+y).collect()"
      ]
    },
    {
      "cell_type": "markdown",
      "id": "a4587230",
      "metadata": {
        "id": "a4587230"
      },
      "source": [
        "### Creat some key value pairs RDDs"
      ]
    },
    {
      "cell_type": "code",
      "execution_count": null,
      "id": "cfb446ee",
      "metadata": {
        "id": "cfb446ee"
      },
      "outputs": [],
      "source": [
        "rdd1 = sc.parallelize([('a',2),('b',3)])\n",
        "rdd2 = sc.parallelize([('a',9),('b',7),('c',10)])"
      ]
    },
    {
      "cell_type": "markdown",
      "id": "98ec3168",
      "metadata": {
        "id": "98ec3168"
      },
      "source": [
        "### Perform Join operation on the RDDs (rdd1,rdd2)"
      ]
    },
    {
      "cell_type": "code",
      "execution_count": null,
      "id": "c61b5926",
      "metadata": {
        "colab": {
          "base_uri": "https://localhost:8080/"
        },
        "id": "c61b5926",
        "outputId": "83e95bd9-52d2-4472-f12e-693323741d50"
      },
      "outputs": [
        {
          "output_type": "execute_result",
          "data": {
            "text/plain": [
              "[('b', (3, 7)), ('a', (2, 9))]"
            ]
          },
          "metadata": {},
          "execution_count": 26
        }
      ],
      "source": [
        "rdd1.join(rdd2).collect()"
      ]
    },
    {
      "cell_type": "code",
      "execution_count": null,
      "id": "5fc98e9f",
      "metadata": {
        "id": "5fc98e9f"
      },
      "outputs": [],
      "source": []
    }
  ],
  "metadata": {
    "kernelspec": {
      "display_name": "Python 3",
      "language": "python",
      "name": "python3"
    },
    "language_info": {
      "codemirror_mode": {
        "name": "ipython",
        "version": 3
      },
      "file_extension": ".py",
      "mimetype": "text/x-python",
      "name": "python",
      "nbconvert_exporter": "python",
      "pygments_lexer": "ipython3",
      "version": "3.8.8"
    },
    "colab": {
      "provenance": [],
      "collapsed_sections": []
    }
  },
  "nbformat": 4,
  "nbformat_minor": 5
}