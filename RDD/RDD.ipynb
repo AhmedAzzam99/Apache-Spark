{
 "cells": [
  {
   "cell_type": "markdown",
   "id": "dbfddd9d",
   "metadata": {},
   "source": [
    "### Application\n",
    "- A user program built on Spark using its APIs. It consists of a driver program and executors on the cluster.\n",
    "\n",
    "### SparkSession\n",
    "- An object that provides a point of entry to interact with underlying Spark functionality and allows programming Spark with its APIs. In an interactive Spark shell, the Spark driver instantiates a SparkSession for you, while in a Spark application, you create a SparkSession object yourself.\n",
    "\n",
    "### Job\n",
    "- A parallel computation consisting of multiple tasks that gets spawned in response to a Spark action (e.g., save(), collect()).\n",
    "\n",
    "### Stage\n",
    "- Each job gets divided into smaller sets of tasks called stages that depend on each other.\n",
    "\n",
    "### Task\n",
    "- A single unit of work or execution that will be sent to a Spark executor."
   ]
  },
  {
   "cell_type": "code",
   "execution_count": 5,
   "id": "49bba51d",
   "metadata": {},
   "outputs": [],
   "source": [
    "import findspark\n",
    "findspark.init()\n",
    "import pyspark"
   ]
  },
  {
   "cell_type": "code",
   "execution_count": null,
   "id": "7aa2117d",
   "metadata": {},
   "outputs": [],
   "source": [
    "from pyspark import SparkContext\n",
    "sc = SparkContext()"
   ]
  },
  {
   "cell_type": "code",
   "execution_count": 3,
   "id": "dbc93259",
   "metadata": {},
   "outputs": [],
   "source": [
    "from pyspark.sql import SparkSession"
   ]
  },
  {
   "cell_type": "code",
   "execution_count": 4,
   "id": "7a513af4",
   "metadata": {},
   "outputs": [],
   "source": [
    "spark = SparkSession.builder.getOrCreate()"
   ]
  },
  {
   "cell_type": "code",
   "execution_count": 5,
   "id": "4403502f",
   "metadata": {},
   "outputs": [],
   "source": [
    "sc = spark.sparkContext"
   ]
  },
  {
   "cell_type": "markdown",
   "id": "71d60248",
   "metadata": {},
   "source": [
    "## Important Terms\n",
    "\n",
    "Let's quickly go over some important terms:\n",
    "\n",
    "Term                   |Definition\n",
    "----                   |-------\n",
    "RDD                    |Resilient Distributed Dataset\n",
    "Transformation         |Spark operation that produces an RDD\n",
    "Action                 |Spark operation that produces a local object\n",
    "Spark Job              |Sequence of transformations on data with a final action"
   ]
  },
  {
   "cell_type": "markdown",
   "id": "230aa7cd",
   "metadata": {},
   "source": [
    "## Creating an RDD\n",
    "\n",
    "There are two ways to create RDDs: <b>parallelizing</b> an existing collection in your driver program, or <b>referencing a dataset</b> in an external storage system, such as a shared filesystem, HDFS, HBase, or any data source offering a Hadoop InputFormat.\n",
    "\n",
    "Method                      |Result\n",
    "----------                               |-------\n",
    "`sc.parallelize(array)`                  |Create RDD of elements of array (or list)\n",
    "`sc.textFile(path/to/file)`                      |Create RDD of lines from file"
   ]
  },
  {
   "cell_type": "code",
   "execution_count": 6,
   "id": "df142990",
   "metadata": {},
   "outputs": [],
   "source": [
    "data = [1,2,3,4,5]\n",
    "distDataRDD = sc.parallelize(data)"
   ]
  },
  {
   "cell_type": "code",
   "execution_count": 7,
   "id": "69ffa274",
   "metadata": {},
   "outputs": [
    {
     "data": {
      "text/plain": [
       "ParallelCollectionRDD[0] at readRDDFromFile at PythonRDD.scala:274"
      ]
     },
     "execution_count": 7,
     "metadata": {},
     "output_type": "execute_result"
    }
   ],
   "source": [
    "distDataRDD"
   ]
  },
  {
   "cell_type": "code",
   "execution_count": 8,
   "id": "7d78ac6b",
   "metadata": {},
   "outputs": [
    {
     "name": "stderr",
     "output_type": "stream",
     "text": [
      "                                                                                \r"
     ]
    },
    {
     "data": {
      "text/plain": [
       "[1, 2, 3, 4, 5]"
      ]
     },
     "execution_count": 8,
     "metadata": {},
     "output_type": "execute_result"
    }
   ],
   "source": [
    "distDataRDD.collect()"
   ]
  },
  {
   "cell_type": "markdown",
   "id": "c2c251dc",
   "metadata": {},
   "source": [
    "##### Once created, the distributed dataset (distDataRDD) can be operated on in parallel."
   ]
  },
  {
   "cell_type": "code",
   "execution_count": 9,
   "id": "2c3b0601",
   "metadata": {},
   "outputs": [
    {
     "name": "stderr",
     "output_type": "stream",
     "text": [
      "                                                                                \r"
     ]
    },
    {
     "data": {
      "text/plain": [
       "15"
      ]
     },
     "execution_count": 9,
     "metadata": {},
     "output_type": "execute_result"
    }
   ],
   "source": [
    "distDataRDD.reduce(lambda a,b: a+b)"
   ]
  },
  {
   "cell_type": "markdown",
   "id": "7be90fb0",
   "metadata": {},
   "source": [
    "PySpark can create distributed datasets from any storage source supported by Hadoop, including your local file system, HDFS, Cassandra, HBase, Amazon S3, etc. Spark supports text files, SequenceFiles, and any other Hadoop InputFormat."
   ]
  },
  {
   "cell_type": "code",
   "execution_count": 10,
   "id": "5b3de931",
   "metadata": {},
   "outputs": [
    {
     "name": "stdout",
     "output_type": "stream",
     "text": [
      "Writing example.txt\n"
     ]
    }
   ],
   "source": [
    "%%writefile example.txt\n",
    "first line\n",
    "second line\n",
    "third line\n",
    "fourth line"
   ]
  },
  {
   "cell_type": "code",
   "execution_count": 11,
   "id": "797d35f2",
   "metadata": {},
   "outputs": [],
   "source": [
    "distFile = sc.textFile('example.txt')"
   ]
  },
  {
   "cell_type": "code",
   "execution_count": 12,
   "id": "f1c9cf09",
   "metadata": {},
   "outputs": [
    {
     "data": {
      "text/plain": [
       "example.txt MapPartitionsRDD[3] at textFile at NativeMethodAccessorImpl.java:0"
      ]
     },
     "execution_count": 12,
     "metadata": {},
     "output_type": "execute_result"
    }
   ],
   "source": [
    "distFile"
   ]
  },
  {
   "cell_type": "code",
   "execution_count": 13,
   "id": "51c47cd5",
   "metadata": {},
   "outputs": [
    {
     "data": {
      "text/plain": [
       "2"
      ]
     },
     "execution_count": 13,
     "metadata": {},
     "output_type": "execute_result"
    }
   ],
   "source": [
    "distFile.getNumPartitions()"
   ]
  },
  {
   "cell_type": "code",
   "execution_count": 14,
   "id": "d9ae0209",
   "metadata": {},
   "outputs": [
    {
     "data": {
      "text/plain": [
       "4"
      ]
     },
     "execution_count": 14,
     "metadata": {},
     "output_type": "execute_result"
    }
   ],
   "source": [
    "distFile.count()"
   ]
  },
  {
   "cell_type": "code",
   "execution_count": 15,
   "id": "7148ad9c",
   "metadata": {},
   "outputs": [
    {
     "data": {
      "text/plain": [
       "['first line', 'second line', 'third line', 'fourth line']"
      ]
     },
     "execution_count": 15,
     "metadata": {},
     "output_type": "execute_result"
    }
   ],
   "source": [
    "distFile.collect()"
   ]
  },
  {
   "cell_type": "code",
   "execution_count": 17,
   "id": "da886d35",
   "metadata": {},
   "outputs": [
    {
     "data": {
      "text/plain": [
       "'first line'"
      ]
     },
     "execution_count": 17,
     "metadata": {},
     "output_type": "execute_result"
    }
   ],
   "source": [
    "distFile.first()"
   ]
  },
  {
   "cell_type": "code",
   "execution_count": 18,
   "id": "d297cce8",
   "metadata": {},
   "outputs": [],
   "source": [
    "lst = distFile.collect()"
   ]
  },
  {
   "cell_type": "code",
   "execution_count": 19,
   "id": "db893be0",
   "metadata": {},
   "outputs": [
    {
     "data": {
      "text/plain": [
       "['first line', 'second line', 'third line', 'fourth line']"
      ]
     },
     "execution_count": 19,
     "metadata": {},
     "output_type": "execute_result"
    }
   ],
   "source": [
    "lst"
   ]
  },
  {
   "cell_type": "code",
   "execution_count": 20,
   "id": "6caa9448",
   "metadata": {},
   "outputs": [
    {
     "data": {
      "text/plain": [
       "'first line'"
      ]
     },
     "execution_count": 20,
     "metadata": {},
     "output_type": "execute_result"
    }
   ],
   "source": [
    "lst[0]"
   ]
  },
  {
   "cell_type": "code",
   "execution_count": 21,
   "id": "f447af96",
   "metadata": {},
   "outputs": [],
   "source": [
    "secfind = distFile.filter(lambda line:'second' in line)"
   ]
  },
  {
   "cell_type": "code",
   "execution_count": 22,
   "id": "a396bc7a",
   "metadata": {},
   "outputs": [
    {
     "data": {
      "text/plain": [
       "PythonRDD[6] at RDD at PythonRDD.scala:53"
      ]
     },
     "execution_count": 22,
     "metadata": {},
     "output_type": "execute_result"
    }
   ],
   "source": [
    "secfind"
   ]
  },
  {
   "cell_type": "code",
   "execution_count": 23,
   "id": "89e03a9d",
   "metadata": {},
   "outputs": [
    {
     "data": {
      "text/plain": [
       "['second line']"
      ]
     },
     "execution_count": 23,
     "metadata": {},
     "output_type": "execute_result"
    }
   ],
   "source": [
    "secfind.collect()"
   ]
  },
  {
   "cell_type": "code",
   "execution_count": 24,
   "id": "f694cc43",
   "metadata": {},
   "outputs": [],
   "source": [
    "thrdfind = distFile.filter(lambda line: 'third' in line)"
   ]
  },
  {
   "cell_type": "code",
   "execution_count": 25,
   "id": "942e3682",
   "metadata": {},
   "outputs": [
    {
     "data": {
      "text/plain": [
       "PythonRDD[7] at RDD at PythonRDD.scala:53"
      ]
     },
     "execution_count": 25,
     "metadata": {},
     "output_type": "execute_result"
    }
   ],
   "source": [
    "thrdfind"
   ]
  },
  {
   "cell_type": "code",
   "execution_count": 26,
   "id": "0c957efc",
   "metadata": {},
   "outputs": [
    {
     "data": {
      "text/plain": [
       "['third line']"
      ]
     },
     "execution_count": 26,
     "metadata": {},
     "output_type": "execute_result"
    }
   ],
   "source": [
    "thrdfind.collect()"
   ]
  },
  {
   "cell_type": "code",
   "execution_count": 27,
   "id": "588c651f",
   "metadata": {},
   "outputs": [],
   "source": [
    "distFile_mapped = distFile.map(lambda s:len(s))"
   ]
  },
  {
   "cell_type": "code",
   "execution_count": 28,
   "id": "8dbf423d",
   "metadata": {},
   "outputs": [
    {
     "data": {
      "text/plain": [
       "PythonRDD[8] at RDD at PythonRDD.scala:53"
      ]
     },
     "execution_count": 28,
     "metadata": {},
     "output_type": "execute_result"
    }
   ],
   "source": [
    "distFile_mapped"
   ]
  },
  {
   "cell_type": "code",
   "execution_count": 29,
   "id": "0bd5b7a5",
   "metadata": {},
   "outputs": [
    {
     "data": {
      "text/plain": [
       "[10, 11, 10, 11]"
      ]
     },
     "execution_count": 29,
     "metadata": {},
     "output_type": "execute_result"
    }
   ],
   "source": [
    "distFile_mapped.collect()"
   ]
  },
  {
   "cell_type": "code",
   "execution_count": 30,
   "id": "f83ed14b",
   "metadata": {},
   "outputs": [
    {
     "data": {
      "text/plain": [
       "42"
      ]
     },
     "execution_count": 30,
     "metadata": {},
     "output_type": "execute_result"
    }
   ],
   "source": [
    "distFile_mapped.reduce(lambda a,b : a+b)"
   ]
  },
  {
   "cell_type": "markdown",
   "id": "e7dda0cf",
   "metadata": {},
   "source": [
    "## RDD Transformations\n",
    "\n",
    "We can use transformations to create a set of instructions we want to preform on the RDD (before we call an action and actually execute them).\n",
    "\n",
    "Transformations are the process which are used to create a new RDD. It follows the principle of Lazy Evaluations (the execution will not start until an action is triggered)."
   ]
  },
  {
   "cell_type": "markdown",
   "id": "1e731939",
   "metadata": {},
   "source": [
    "Transformation Example                          |Result\n",
    "----------                               |-------\n",
    "`filter(lambda x: x % 2 == 0)`           |Discard non-even elements\n",
    "`map(lambda x: x * 2)`                   |Multiply each RDD element by `2`\n",
    "`map(lambda x: x.split())`               |Split each string into words\n",
    "`flatMap(lambda x: x.split())`           |Split each string into words and flatten sequence\n",
    "`sample(withReplacement=True,0.25)`      |Create sample of 25% of elements with replacement\n",
    "`union(rdd)`                             |Append `rdd` to existing RDD\n",
    "`distinct()`                             |Remove duplicates in RDD\n",
    "`sortBy(lambda x: x, ascending=False)`   |Sort elements in descending order"
   ]
  },
  {
   "cell_type": "markdown",
   "id": "258f5a77",
   "metadata": {},
   "source": [
    "## RDD Actions\n",
    "\n",
    "Once you have your 'recipe' of transformations ready, what you will do next is execute them by calling an action.\n",
    "\n",
    "Actions are the processes which are applied on an RDD to initiate Apache Spark to apply calculation and pass the result back to driver. \n",
    "\n",
    "Here are some common actions:\n",
    "\n",
    "Action                             |Result\n",
    "----------                             |-------\n",
    "`collect()`                            |Convert RDD to in-memory list \n",
    "`take(3)`                              |First 3 elements of RDD \n",
    "`top(3)`                               |Top 3 elements of RDD\n",
    "`takeSample(withReplacement=True,3)`   |Create sample of 3 elements with replacement\n",
    "`sum()`                                |Find element sum (assumes numeric elements)\n",
    "`mean()`                               |Find element mean (assumes numeric elements)\n",
    "`stdev()`                              |Find element deviation (assumes numeric elements)"
   ]
  },
  {
   "cell_type": "code",
   "execution_count": 31,
   "id": "f66dbe68",
   "metadata": {},
   "outputs": [
    {
     "name": "stdout",
     "output_type": "stream",
     "text": [
      "Writing example2.txt\n"
     ]
    }
   ],
   "source": [
    "%%writefile example2.txt\n",
    "first \n",
    "second line\n",
    "the third line\n",
    "then a fourth line"
   ]
  },
  {
   "cell_type": "code",
   "execution_count": 32,
   "id": "da93b191",
   "metadata": {},
   "outputs": [
    {
     "data": {
      "text/plain": [
       "example2.txt MapPartitionsRDD[11] at textFile at NativeMethodAccessorImpl.java:0"
      ]
     },
     "execution_count": 32,
     "metadata": {},
     "output_type": "execute_result"
    }
   ],
   "source": [
    "# Show RDD\n",
    "sc.textFile('example2.txt')"
   ]
  },
  {
   "cell_type": "code",
   "execution_count": 33,
   "id": "676b0fc5",
   "metadata": {},
   "outputs": [],
   "source": [
    "# Save a reference to this RDD\n",
    "text_rdd = sc.textFile('example2.txt')"
   ]
  },
  {
   "cell_type": "code",
   "execution_count": 34,
   "id": "324737fc",
   "metadata": {},
   "outputs": [
    {
     "data": {
      "text/plain": [
       "example2.txt MapPartitionsRDD[13] at textFile at NativeMethodAccessorImpl.java:0"
      ]
     },
     "execution_count": 34,
     "metadata": {},
     "output_type": "execute_result"
    }
   ],
   "source": [
    "text_rdd"
   ]
  },
  {
   "cell_type": "code",
   "execution_count": 35,
   "id": "098cdb5a",
   "metadata": {},
   "outputs": [
    {
     "data": {
      "text/plain": [
       "['first ', 'second line']"
      ]
     },
     "execution_count": 35,
     "metadata": {},
     "output_type": "execute_result"
    }
   ],
   "source": [
    "text_rdd.take(2)"
   ]
  },
  {
   "cell_type": "code",
   "execution_count": 36,
   "id": "c3e9d7ac",
   "metadata": {},
   "outputs": [
    {
     "data": {
      "text/plain": [
       "['first ', 'second line', 'the third line', 'then a fourth line']"
      ]
     },
     "execution_count": 36,
     "metadata": {},
     "output_type": "execute_result"
    }
   ],
   "source": [
    "text_rdd.collect()"
   ]
  },
  {
   "cell_type": "markdown",
   "id": "fd62a024",
   "metadata": {},
   "source": [
    "### Exercise\n",
    "\n",
    "Create a file `sample.txt`with. Read and load it into a RDD with the `textFile` spark function."
   ]
  },
  {
   "cell_type": "code",
   "execution_count": 37,
   "id": "95c788f7",
   "metadata": {},
   "outputs": [
    {
     "data": {
      "text/plain": [
       "['first ', 'second line', 'the third line', 'then a fourth line']"
      ]
     },
     "execution_count": 37,
     "metadata": {},
     "output_type": "execute_result"
    }
   ],
   "source": [
    "text_rdd.collect()"
   ]
  },
  {
   "cell_type": "markdown",
   "id": "cd04d51a",
   "metadata": {},
   "source": [
    "## Transformation\n",
    "In Spark, the core data structures are immutable meaning they cannot be changed once created. This might seem like a strange concept at first, if you cannot change it, how are you supposed to use it? In order to “change” a DataFrame you will have to instruct Spark how you would like to modify the DataFrame you have into the one that you want. These instructions are called transformations. Transformations are the core of how you will be expressing your business logic using Spark. There are two types of transformations, those that specify narrow dependencies and those that specify wide dependencies.\n",
    "https://databricks.com/glossary/what-are-transformations "
   ]
  },
  {
   "attachments": {
    "image.png": {
     "image/png": "[encoded data removed]"
    }
   },
   "cell_type": "markdown",
   "id": "b645fea4",
   "metadata": {},
   "source": [
    "<b>Narrow transformation — specify narrow dependencies</b>\n",
    "Narrow transformation are those where each input partition will contribute to only one output partition.\n",
    "![image.png](attachment:image.png)"
   ]
  },
  {
   "attachments": {
    "image-2.png": {
     "image/png": "[encoded data removed]"
    }
   },
   "cell_type": "markdown",
   "id": "8a3e56a7",
   "metadata": {},
   "source": [
    "<b>Wide transformation — specify wide dependencies.</b>\n",
    "Wide transformation will have input partitions contributing to many output partitions.\n",
    "You will often hear this referred to as a <I><b>shuffle<b></I> where Spark will exchange partitions across the cluster. \n",
    "![image-2.png](attachment:image-2.png)"
   ]
  },
  {
   "cell_type": "code",
   "execution_count": 41,
   "id": "aaf49f70",
   "metadata": {},
   "outputs": [
    {
     "name": "stdout",
     "output_type": "stream",
     "text": [
      "rdd elements:          [0, 1, 2, 3, 4, 5, 6, 7]\n"
     ]
    }
   ],
   "source": [
    "rdd = sc.parallelize(list(range(8)))\n",
    "print('rdd elements:         ',rdd.collect())"
   ]
  },
  {
   "cell_type": "code",
   "execution_count": 42,
   "id": "b562c081",
   "metadata": {},
   "outputs": [
    {
     "name": "stdout",
     "output_type": "stream",
     "text": [
      "rdd elements squared:  [0, 1, 4, 9, 16, 25, 36, 49]\n"
     ]
    }
   ],
   "source": [
    "rdd_squared = rdd.map(lambda x: x ** 2).collect() # Square each element\n",
    "print('rdd elements squared: ', rdd_squared)"
   ]
  },
  {
   "cell_type": "code",
   "execution_count": 43,
   "id": "0ee936d8",
   "metadata": {},
   "outputs": [],
   "source": [
    "def sq(no):\n",
    "    return no**2"
   ]
  },
  {
   "cell_type": "code",
   "execution_count": 44,
   "id": "2063a302",
   "metadata": {},
   "outputs": [
    {
     "name": "stdout",
     "output_type": "stream",
     "text": [
      "rdd elements squared:  [0, 1, 4, 9, 16, 25, 36, 49]\n"
     ]
    }
   ],
   "source": [
    "rdd_squared = rdd.map(sq).collect() # Square each element\n",
    "print('rdd elements squared: ', rdd_squared)"
   ]
  },
  {
   "cell_type": "code",
   "execution_count": 45,
   "id": "d6bdef14",
   "metadata": {},
   "outputs": [
    {
     "data": {
      "text/plain": [
       "[['first'],\n",
       " ['second', 'line'],\n",
       " ['the', 'third', 'line'],\n",
       " ['then', 'a', 'fourth', 'line']]"
      ]
     },
     "execution_count": 45,
     "metadata": {},
     "output_type": "execute_result"
    }
   ],
   "source": [
    "# Map a function (or lambda expression) to each line\n",
    "# Then collect the results.\n",
    "text_rdd.map(lambda line: line.split()).collect()"
   ]
  },
  {
   "cell_type": "code",
   "execution_count": 46,
   "id": "41acbd3d",
   "metadata": {},
   "outputs": [],
   "source": [
    "textRddlst = text_rdd.map(lambda line: line.split()).collect()"
   ]
  },
  {
   "cell_type": "code",
   "execution_count": 47,
   "id": "10b9bb0d",
   "metadata": {},
   "outputs": [
    {
     "data": {
      "text/plain": [
       "['second', 'line']"
      ]
     },
     "execution_count": 47,
     "metadata": {},
     "output_type": "execute_result"
    }
   ],
   "source": [
    "textRddlst[1]"
   ]
  },
  {
   "cell_type": "code",
   "execution_count": 48,
   "id": "733bb51b",
   "metadata": {},
   "outputs": [
    {
     "data": {
      "text/plain": [
       "'second'"
      ]
     },
     "execution_count": 48,
     "metadata": {},
     "output_type": "execute_result"
    }
   ],
   "source": [
    "textRddlst[1][0]"
   ]
  },
  {
   "cell_type": "markdown",
   "id": "7d8610cd",
   "metadata": {},
   "source": [
    "### Exercise\n",
    "\n",
    "1- Create rdd from list of numbers and apply any built in Math function to it.<br>\n",
    "2- Apply ant math operation using lambda expression."
   ]
  },
  {
   "cell_type": "code",
   "execution_count": null,
   "id": "42381c17",
   "metadata": {},
   "outputs": [],
   "source": []
  },
  {
   "cell_type": "markdown",
   "id": "b27c91a8",
   "metadata": {},
   "source": [
    "## Map vs flatMap"
   ]
  },
  {
   "cell_type": "code",
   "execution_count": 49,
   "id": "3d2061cb",
   "metadata": {},
   "outputs": [
    {
     "data": {
      "text/plain": [
       "[['first'],\n",
       " ['second', 'line'],\n",
       " ['the', 'third', 'line'],\n",
       " ['then', 'a', 'fourth', 'line']]"
      ]
     },
     "execution_count": 49,
     "metadata": {},
     "output_type": "execute_result"
    }
   ],
   "source": [
    "text_rdd.map(lambda line: line.split()).collect()"
   ]
  },
  {
   "cell_type": "code",
   "execution_count": 50,
   "id": "1c9b6249",
   "metadata": {},
   "outputs": [
    {
     "data": {
      "text/plain": [
       "['first',\n",
       " 'second',\n",
       " 'line',\n",
       " 'the',\n",
       " 'third',\n",
       " 'line',\n",
       " 'then',\n",
       " 'a',\n",
       " 'fourth',\n",
       " 'line']"
      ]
     },
     "execution_count": 50,
     "metadata": {},
     "output_type": "execute_result"
    }
   ],
   "source": [
    "# Map vs flatMap\n",
    "# Collect everything as a single flat map\n",
    "text_rdd.flatMap(lambda line: line.split()).collect()"
   ]
  },
  {
   "cell_type": "code",
   "execution_count": 51,
   "id": "60ce8a55",
   "metadata": {},
   "outputs": [],
   "source": [
    "lstFlatMap = text_rdd.flatMap(lambda line: line.split()).collect()"
   ]
  },
  {
   "cell_type": "code",
   "execution_count": 52,
   "id": "dfbb9ec5",
   "metadata": {},
   "outputs": [
    {
     "data": {
      "text/plain": [
       "'fourth'"
      ]
     },
     "execution_count": 52,
     "metadata": {},
     "output_type": "execute_result"
    }
   ],
   "source": [
    "lstFlatMap[8] "
   ]
  },
  {
   "cell_type": "code",
   "execution_count": 53,
   "id": "94e85806",
   "metadata": {},
   "outputs": [
    {
     "data": {
      "text/plain": [
       "[0, 1, 2, 3, 4, 5, 6, 7]"
      ]
     },
     "execution_count": 53,
     "metadata": {},
     "output_type": "execute_result"
    }
   ],
   "source": [
    "rdd.collect()"
   ]
  },
  {
   "cell_type": "code",
   "execution_count": 54,
   "id": "92d622d5",
   "metadata": {},
   "outputs": [
    {
     "data": {
      "text/plain": [
       "[0, 2, 4, 6]"
      ]
     },
     "execution_count": 54,
     "metadata": {},
     "output_type": "execute_result"
    }
   ],
   "source": [
    "rdd.filter(lambda x : x%2==0).collect()"
   ]
  },
  {
   "cell_type": "code",
   "execution_count": 56,
   "id": "0751b092",
   "metadata": {},
   "outputs": [
    {
     "data": {
      "text/plain": [
       "[('J', <pyspark.resultiterable.ResultIterable at 0x7f2ca5d1c070>),\n",
       " ('F', <pyspark.resultiterable.ResultIterable at 0x7f2ca5d8fe50>),\n",
       " ('A', <pyspark.resultiterable.ResultIterable at 0x7f2ca5d8feb0>)]"
      ]
     },
     "execution_count": 56,
     "metadata": {},
     "output_type": "execute_result"
    }
   ],
   "source": [
    "rdd = sc.parallelize(['John','Fred','Anna','James','Frank'])\n",
    "rdd2 = rdd.groupBy(lambda w : w[0])\n",
    "rdd2.collect()"
   ]
  },
  {
   "cell_type": "code",
   "execution_count": 57,
   "id": "9a2cecfd",
   "metadata": {},
   "outputs": [
    {
     "data": {
      "text/plain": [
       "('J', <pyspark.resultiterable.ResultIterable at 0x7f2ca5a24880>)"
      ]
     },
     "execution_count": 57,
     "metadata": {},
     "output_type": "execute_result"
    }
   ],
   "source": [
    "rdd2.first()"
   ]
  },
  {
   "cell_type": "code",
   "execution_count": 58,
   "id": "3de3fc03",
   "metadata": {},
   "outputs": [
    {
     "data": {
      "text/plain": [
       "<pyspark.resultiterable.ResultIterable at 0x7f2ca5dc7a60>"
      ]
     },
     "execution_count": 58,
     "metadata": {},
     "output_type": "execute_result"
    }
   ],
   "source": [
    "rdd2.first()[1]"
   ]
  },
  {
   "cell_type": "code",
   "execution_count": 59,
   "id": "aec06fcb",
   "metadata": {},
   "outputs": [
    {
     "data": {
      "text/plain": [
       "['John', 'James']"
      ]
     },
     "execution_count": 59,
     "metadata": {},
     "output_type": "execute_result"
    }
   ],
   "source": [
    "list(rdd2.first()[1])"
   ]
  },
  {
   "cell_type": "code",
   "execution_count": 60,
   "id": "7dd9631f",
   "metadata": {},
   "outputs": [
    {
     "data": {
      "text/plain": [
       "[('J', ['John', 'James']), ('F', ['Fred', 'Frank']), ('A', ['Anna'])]"
      ]
     },
     "execution_count": 60,
     "metadata": {},
     "output_type": "execute_result"
    }
   ],
   "source": [
    "rdd2_lst = rdd2.collect()\n",
    "[(k,list(v)) for (k,v) in rdd2_lst]"
   ]
  },
  {
   "cell_type": "code",
   "execution_count": 61,
   "id": "4aaf1108",
   "metadata": {},
   "outputs": [],
   "source": [
    "rdd = sc.parallelize([1, 1, 2, 3, 5, 8])\n",
    "result = rdd.groupBy(lambda x: x % 2).collect()"
   ]
  },
  {
   "cell_type": "code",
   "execution_count": 62,
   "id": "13f2b970",
   "metadata": {},
   "outputs": [
    {
     "data": {
      "text/plain": [
       "[(0, <pyspark.resultiterable.ResultIterable at 0x7f2ca5db1040>),\n",
       " (1, <pyspark.resultiterable.ResultIterable at 0x7f2ca5db1130>)]"
      ]
     },
     "execution_count": 62,
     "metadata": {},
     "output_type": "execute_result"
    }
   ],
   "source": [
    "result"
   ]
  },
  {
   "cell_type": "code",
   "execution_count": 63,
   "id": "5fe1af9f",
   "metadata": {},
   "outputs": [
    {
     "data": {
      "text/plain": [
       "[(0, [2, 8]), (1, [1, 1, 3, 5])]"
      ]
     },
     "execution_count": 63,
     "metadata": {},
     "output_type": "execute_result"
    }
   ],
   "source": [
    "sorted([(x, sorted(y)) for (x, y) in result])"
   ]
  },
  {
   "cell_type": "code",
   "execution_count": 69,
   "id": "8dde5b69",
   "metadata": {},
   "outputs": [
    {
     "data": {
      "text/plain": [
       "[('B', <pyspark.resultiterable.ResultIterable at 0x7f2ca6c83160>),\n",
       " ('A', <pyspark.resultiterable.ResultIterable at 0x7f2ca5b106d0>)]"
      ]
     },
     "execution_count": 69,
     "metadata": {},
     "output_type": "execute_result"
    }
   ],
   "source": [
    "rdd = sc.parallelize([('B',5),('B',4),('A',3),('A',2),('A',1)])\n",
    "rdd2 = rdd.groupByKey()\n",
    "rdd2.collect()"
   ]
  },
  {
   "cell_type": "code",
   "execution_count": 73,
   "id": "672059b8",
   "metadata": {},
   "outputs": [
    {
     "data": {
      "text/plain": [
       "[('B', [5, 4]), ('A', [3, 2, 1])]"
      ]
     },
     "execution_count": 73,
     "metadata": {},
     "output_type": "execute_result"
    }
   ],
   "source": [
    "[(j[0], list(j[1])) for j in rdd2.collect()]"
   ]
  },
  {
   "cell_type": "code",
   "execution_count": 74,
   "id": "940ba904",
   "metadata": {},
   "outputs": [
    {
     "data": {
      "text/plain": [
       "[('A', [3, 2, 1]), ('B', [5, 4])]"
      ]
     },
     "execution_count": 74,
     "metadata": {},
     "output_type": "execute_result"
    }
   ],
   "source": [
    "sorted([(j[0], list(j[1])) for j in rdd2.collect()])"
   ]
  },
  {
   "cell_type": "code",
   "execution_count": 75,
   "id": "ad9b61b2",
   "metadata": {},
   "outputs": [
    {
     "data": {
      "text/plain": [
       "[('A', [1, 2, 3]), ('B', [4, 5])]"
      ]
     },
     "execution_count": 75,
     "metadata": {},
     "output_type": "execute_result"
    }
   ],
   "source": [
    "sorted([(j[0], sorted(list(j[1]))) for j in rdd2.collect()])"
   ]
  },
  {
   "cell_type": "code",
   "execution_count": 76,
   "id": "a4f14d81",
   "metadata": {},
   "outputs": [
    {
     "data": {
      "text/plain": [
       "[('b', (2, 5)), ('a', (1, 3)), ('a', (1, 4))]"
      ]
     },
     "execution_count": 76,
     "metadata": {},
     "output_type": "execute_result"
    }
   ],
   "source": [
    "rdd1 = sc.parallelize([(\"a\", 1), (\"b\", 2)])\n",
    "rdd2 = sc.parallelize([(\"a\", 3), (\"a\", 4), (\"b\", 5)])\n",
    "rdd1.join(rdd2).collect()"
   ]
  },
  {
   "cell_type": "code",
   "execution_count": 77,
   "id": "054c7120",
   "metadata": {},
   "outputs": [
    {
     "data": {
      "text/plain": [
       "[2, 4, 10, 1, 3, 5]"
      ]
     },
     "execution_count": 77,
     "metadata": {},
     "output_type": "execute_result"
    }
   ],
   "source": [
    "rdd = sc.parallelize([1,2,3,3,4,5,10,5,5,5,2,2,2])\n",
    "rdd.distinct().collect()"
   ]
  },
  {
   "cell_type": "code",
   "execution_count": 79,
   "id": "89518708",
   "metadata": {},
   "outputs": [],
   "source": [
    "txtrdd_flat = text_rdd.flatMap(lambda line : line.split())"
   ]
  },
  {
   "cell_type": "code",
   "execution_count": 80,
   "id": "db83045a",
   "metadata": {},
   "outputs": [
    {
     "data": {
      "text/plain": [
       "['first',\n",
       " 'second',\n",
       " 'line',\n",
       " 'the',\n",
       " 'third',\n",
       " 'line',\n",
       " 'then',\n",
       " 'a',\n",
       " 'fourth',\n",
       " 'line']"
      ]
     },
     "execution_count": 80,
     "metadata": {},
     "output_type": "execute_result"
    }
   ],
   "source": [
    "txtrdd_flat.collect()"
   ]
  },
  {
   "cell_type": "code",
   "execution_count": 82,
   "id": "78f592d3",
   "metadata": {},
   "outputs": [
    {
     "data": {
      "text/plain": [
       "['line', 'third', 'fourth', 'first', 'second', 'the', 'then', 'a']"
      ]
     },
     "execution_count": 82,
     "metadata": {},
     "output_type": "execute_result"
    }
   ],
   "source": [
    "txtrdd_flat.distinct().collect()"
   ]
  },
  {
   "cell_type": "code",
   "execution_count": 83,
   "id": "1647e72a",
   "metadata": {},
   "outputs": [
    {
     "data": {
      "text/plain": [
       "[('J', 'John'), ('F', 'Fred'), ('A', 'Anna'), ('J', 'James')]"
      ]
     },
     "execution_count": 83,
     "metadata": {},
     "output_type": "execute_result"
    }
   ],
   "source": [
    "rdd = sc.parallelize(['John', 'Fred', 'Anna', 'James'])\n",
    "rdd.keyBy(lambda w: w[0]).collect()"
   ]
  },
  {
   "cell_type": "markdown",
   "id": "1e846ea0",
   "metadata": {},
   "source": [
    "## Actions"
   ]
  },
  {
   "cell_type": "code",
   "execution_count": 86,
   "id": "b23539a6",
   "metadata": {},
   "outputs": [],
   "source": [
    "rdd = sc.parallelize(list(range(8)))"
   ]
  },
  {
   "cell_type": "code",
   "execution_count": 87,
   "id": "cc1169d4",
   "metadata": {},
   "outputs": [],
   "source": [
    "rdd2 = rdd.map(lambda x:x**2)"
   ]
  },
  {
   "cell_type": "code",
   "execution_count": 88,
   "id": "1ea0b1b2",
   "metadata": {},
   "outputs": [
    {
     "data": {
      "text/plain": [
       "140"
      ]
     },
     "execution_count": 88,
     "metadata": {},
     "output_type": "execute_result"
    }
   ],
   "source": [
    "rdd2.reduce(lambda a,b:a+b) # reduce is an action!"
   ]
  },
  {
   "cell_type": "code",
   "execution_count": 89,
   "id": "58e534d5",
   "metadata": {},
   "outputs": [],
   "source": [
    "from operator import add"
   ]
  },
  {
   "cell_type": "code",
   "execution_count": 90,
   "id": "1c043999",
   "metadata": {},
   "outputs": [
    {
     "data": {
      "text/plain": [
       "140"
      ]
     },
     "execution_count": 90,
     "metadata": {},
     "output_type": "execute_result"
    }
   ],
   "source": [
    "rdd2.reduce(add)"
   ]
  },
  {
   "cell_type": "code",
   "execution_count": 92,
   "id": "adae1e38",
   "metadata": {},
   "outputs": [
    {
     "data": {
      "text/plain": [
       "[0, 1, 4, 9, 16, 25, 36, 49]"
      ]
     },
     "execution_count": 92,
     "metadata": {},
     "output_type": "execute_result"
    }
   ],
   "source": [
    "rdd2.collect()"
   ]
  },
  {
   "cell_type": "code",
   "execution_count": 91,
   "id": "474818e9",
   "metadata": {},
   "outputs": [
    {
     "name": "stdout",
     "output_type": "stream",
     "text": [
      "Max:  49\n",
      "Min:  0\n",
      "Sum:  140\n",
      "Mean:  17.5\n",
      "Variance:  278.25\n",
      "Stdev:  16.680827317612277\n"
     ]
    }
   ],
   "source": [
    "# Using actions\n",
    "print('Max: ',rdd2.max())\n",
    "print('Min: ',rdd2.min())\n",
    "print('Sum: ',rdd2.sum())\n",
    "print('Mean: ',rdd2.mean())\n",
    "print('Variance: ',rdd2.variance())\n",
    "print('Stdev: ',rdd2.stdev())"
   ]
  },
  {
   "cell_type": "code",
   "execution_count": 93,
   "id": "6d57eb74",
   "metadata": {},
   "outputs": [],
   "source": [
    "rdd = sc.parallelize([('J', 'James'), ('F','Fred'), \n",
    "                    ('A','Anna'), ('J','John')])"
   ]
  },
  {
   "cell_type": "code",
   "execution_count": 94,
   "id": "0df31193",
   "metadata": {},
   "outputs": [
    {
     "data": {
      "text/plain": [
       "defaultdict(int, {'J': 2, 'F': 1, 'A': 1})"
      ]
     },
     "execution_count": 94,
     "metadata": {},
     "output_type": "execute_result"
    }
   ],
   "source": [
    "rdd.countByKey()"
   ]
  },
  {
   "cell_type": "code",
   "execution_count": 95,
   "id": "0f7b4187",
   "metadata": {},
   "outputs": [],
   "source": [
    "# Stop the local spark cluster\n",
    "sc.stop()"
   ]
  }
 ],
 "metadata": {
  "kernelspec": {
   "display_name": "Python 3 (ipykernel)",
   "language": "python",
   "name": "python3"
  },
  "language_info": {
   "codemirror_mode": {
    "name": "ipython",
    "version": 3
   },
   "file_extension": ".py",
   "mimetype": "text/x-python",
   "name": "python",
   "nbconvert_exporter": "python",
   "pygments_lexer": "ipython3",
   "version": "3.9.12"
  }
 },
 "nbformat": 4,
 "nbformat_minor": 5
}
